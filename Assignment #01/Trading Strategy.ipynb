{
 "cells": [
  {
   "cell_type": "code",
   "execution_count": 35,
   "id": "68487d79",
   "metadata": {},
   "outputs": [],
   "source": [
    "import pandas as pd\n",
    "import matplotlib.pyplot as plt\n",
    "%matplotlib inline"
   ]
  },
  {
   "cell_type": "markdown",
   "id": "786d25dc",
   "metadata": {},
   "source": [
    "### 1.) Munging the stock data and add two columns - MA20 and MA80"
   ]
  },
  {
   "cell_type": "code",
   "execution_count": 41,
   "id": "42d97499",
   "metadata": {},
   "outputs": [
    {
     "data": {
      "text/html": [
       "<div>\n",
       "<style scoped>\n",
       "    .dataframe tbody tr th:only-of-type {\n",
       "        vertical-align: middle;\n",
       "    }\n",
       "\n",
       "    .dataframe tbody tr th {\n",
       "        vertical-align: top;\n",
       "    }\n",
       "\n",
       "    .dataframe thead th {\n",
       "        text-align: right;\n",
       "    }\n",
       "</style>\n",
       "<table border=\"1\" class=\"dataframe\">\n",
       "  <thead>\n",
       "    <tr style=\"text-align: right;\">\n",
       "      <th></th>\n",
       "      <th>Date</th>\n",
       "      <th>Open</th>\n",
       "      <th>High</th>\n",
       "      <th>Low</th>\n",
       "      <th>Close</th>\n",
       "      <th>Adj Close</th>\n",
       "      <th>Volume</th>\n",
       "      <th>MA20</th>\n",
       "      <th>MA80</th>\n",
       "    </tr>\n",
       "  </thead>\n",
       "  <tbody>\n",
       "    <tr>\n",
       "      <th>79</th>\n",
       "      <td>2015-04-27</td>\n",
       "      <td>47.230000</td>\n",
       "      <td>48.130001</td>\n",
       "      <td>47.220001</td>\n",
       "      <td>48.029999</td>\n",
       "      <td>44.621574</td>\n",
       "      <td>59248200</td>\n",
       "      <td>42.3780</td>\n",
       "      <td>43.350750</td>\n",
       "    </tr>\n",
       "    <tr>\n",
       "      <th>80</th>\n",
       "      <td>2015-04-28</td>\n",
       "      <td>47.779999</td>\n",
       "      <td>49.209999</td>\n",
       "      <td>47.700001</td>\n",
       "      <td>49.160000</td>\n",
       "      <td>45.671391</td>\n",
       "      <td>60730800</td>\n",
       "      <td>42.7880</td>\n",
       "      <td>43.384625</td>\n",
       "    </tr>\n",
       "    <tr>\n",
       "      <th>81</th>\n",
       "      <td>2015-04-29</td>\n",
       "      <td>48.720001</td>\n",
       "      <td>49.310001</td>\n",
       "      <td>48.500000</td>\n",
       "      <td>49.060001</td>\n",
       "      <td>45.578487</td>\n",
       "      <td>47804600</td>\n",
       "      <td>43.2080</td>\n",
       "      <td>43.413375</td>\n",
       "    </tr>\n",
       "    <tr>\n",
       "      <th>82</th>\n",
       "      <td>2015-04-30</td>\n",
       "      <td>48.700001</td>\n",
       "      <td>49.540001</td>\n",
       "      <td>48.599998</td>\n",
       "      <td>48.639999</td>\n",
       "      <td>45.188286</td>\n",
       "      <td>64725500</td>\n",
       "      <td>43.6040</td>\n",
       "      <td>43.442250</td>\n",
       "    </tr>\n",
       "    <tr>\n",
       "      <th>83</th>\n",
       "      <td>2015-05-01</td>\n",
       "      <td>48.580002</td>\n",
       "      <td>48.880001</td>\n",
       "      <td>48.400002</td>\n",
       "      <td>48.660000</td>\n",
       "      <td>45.206875</td>\n",
       "      <td>38937300</td>\n",
       "      <td>44.0225</td>\n",
       "      <td>43.479875</td>\n",
       "    </tr>\n",
       "  </tbody>\n",
       "</table>\n",
       "</div>"
      ],
      "text/plain": [
       "          Date       Open       High        Low      Close  Adj Close  \\\n",
       "79  2015-04-27  47.230000  48.130001  47.220001  48.029999  44.621574   \n",
       "80  2015-04-28  47.779999  49.209999  47.700001  49.160000  45.671391   \n",
       "81  2015-04-29  48.720001  49.310001  48.500000  49.060001  45.578487   \n",
       "82  2015-04-30  48.700001  49.540001  48.599998  48.639999  45.188286   \n",
       "83  2015-05-01  48.580002  48.880001  48.400002  48.660000  45.206875   \n",
       "\n",
       "      Volume     MA20       MA80  \n",
       "79  59248200  42.3780  43.350750  \n",
       "80  60730800  42.7880  43.384625  \n",
       "81  47804600  43.2080  43.413375  \n",
       "82  64725500  43.6040  43.442250  \n",
       "83  38937300  44.0225  43.479875  "
      ]
     },
     "execution_count": 41,
     "metadata": {},
     "output_type": "execute_result"
    }
   ],
   "source": [
    "#import MS's stock data, add two columns - MA20 and MA80\n",
    "#use dropna to remove any \"Not a Number\" data\n",
    "MS = pd.read_csv('Microsoft_data.csv')\n",
    "MS['MA20'] = MS['Close'].rolling(20).mean()\n",
    "MS['MA80'] = MS['Close'].rolling(80).mean()\n",
    "MS = MS.dropna()\n",
    "MS.head()"
   ]
  },
  {
   "cell_type": "markdown",
   "id": "bbe1b768",
   "metadata": {},
   "source": [
    "### 2. Add \"Shares\" column to make decisions base on the strategy"
   ]
  },
  {
   "cell_type": "code",
   "execution_count": 42,
   "id": "2a08bad6",
   "metadata": {},
   "outputs": [],
   "source": [
    "#Add a new column \"Shares\", if MA20>MA80, denote as 1 (long one share of stock), otherwise, denote as 0 (do nothing)\n",
    "\n",
    "MS['Shares'] = [1 if MS.loc[ei, 'MA20']>MS.loc[ei, 'MA80'] else 0 for ei in MS.index]"
   ]
  },
  {
   "cell_type": "code",
   "execution_count": 43,
   "id": "82ea2878",
   "metadata": {},
   "outputs": [
    {
     "data": {
      "text/plain": [
       "<matplotlib.lines.Line2D at 0x16433bd0bb0>"
      ]
     },
     "execution_count": 43,
     "metadata": {},
     "output_type": "execute_result"
    },
    {
     "data": {
      "image/png": "[encoded data removed]",
      "text/plain": [
       "<Figure size 432x288 with 1 Axes>"
      ]
     },
     "metadata": {
      "needs_background": "light"
     },
     "output_type": "display_data"
    }
   ],
   "source": [
    "#Add a new column \"Profit\" using List Comprehension, for any rows in fb, if Shares=1, the profit is calculated as:\n",
    "# the close price of tomorrow - the close price of today. Otherwise the profit is 0.\n",
    "\n",
    "#Plot a graph to show the Profit/Loss\n",
    "\n",
    "MS['Close1'] = MS['Close'].shift(-1)\n",
    "MS['Profit'] = [MS.loc[ei, 'Close1'] - MS.loc[ei, 'Close'] if MS.loc[ei, 'Shares']==1 else 0 for ei in MS.index]\n",
    "MS['Profit'].plot()\n",
    "plt.axhline(y=0, color='#8B0000') #Dark Red (Hex Code #RRGGBB)"
   ]
  },
  {
   "cell_type": "markdown",
   "id": "fcaac621",
   "metadata": {},
   "source": [
    "### 3. Use .cumsum() to display our model's performance if we follow the strategy"
   ]
  },
  {
   "cell_type": "code",
   "execution_count": 44,
   "id": "9aaa138e",
   "metadata": {},
   "outputs": [
    {
     "data": {
      "text/html": [
       "<div>\n",
       "<style scoped>\n",
       "    .dataframe tbody tr th:only-of-type {\n",
       "        vertical-align: middle;\n",
       "    }\n",
       "\n",
       "    .dataframe tbody tr th {\n",
       "        vertical-align: top;\n",
       "    }\n",
       "\n",
       "    .dataframe thead th {\n",
       "        text-align: right;\n",
       "    }\n",
       "</style>\n",
       "<table border=\"1\" class=\"dataframe\">\n",
       "  <thead>\n",
       "    <tr style=\"text-align: right;\">\n",
       "      <th></th>\n",
       "      <th>Date</th>\n",
       "      <th>Open</th>\n",
       "      <th>High</th>\n",
       "      <th>Low</th>\n",
       "      <th>Close</th>\n",
       "      <th>Adj Close</th>\n",
       "      <th>Volume</th>\n",
       "      <th>MA20</th>\n",
       "      <th>MA80</th>\n",
       "      <th>Shares</th>\n",
       "      <th>Close1</th>\n",
       "      <th>Profit</th>\n",
       "      <th>wealth</th>\n",
       "    </tr>\n",
       "  </thead>\n",
       "  <tbody>\n",
       "    <tr>\n",
       "      <th>775</th>\n",
       "      <td>2018-01-30</td>\n",
       "      <td>93.300003</td>\n",
       "      <td>93.660004</td>\n",
       "      <td>92.099998</td>\n",
       "      <td>92.739998</td>\n",
       "      <td>92.306389</td>\n",
       "      <td>38635100</td>\n",
       "      <td>89.8285</td>\n",
       "      <td>84.261500</td>\n",
       "      <td>1</td>\n",
       "      <td>95.010002</td>\n",
       "      <td>2.270004</td>\n",
       "      <td>31.260002</td>\n",
       "    </tr>\n",
       "    <tr>\n",
       "      <th>776</th>\n",
       "      <td>2018-01-31</td>\n",
       "      <td>93.750000</td>\n",
       "      <td>95.400002</td>\n",
       "      <td>93.510002</td>\n",
       "      <td>95.010002</td>\n",
       "      <td>94.565781</td>\n",
       "      <td>48756300</td>\n",
       "      <td>90.2815</td>\n",
       "      <td>84.499500</td>\n",
       "      <td>1</td>\n",
       "      <td>94.260002</td>\n",
       "      <td>-0.750000</td>\n",
       "      <td>30.510002</td>\n",
       "    </tr>\n",
       "    <tr>\n",
       "      <th>777</th>\n",
       "      <td>2018-02-01</td>\n",
       "      <td>94.790001</td>\n",
       "      <td>96.070000</td>\n",
       "      <td>93.580002</td>\n",
       "      <td>94.260002</td>\n",
       "      <td>93.819290</td>\n",
       "      <td>47227900</td>\n",
       "      <td>90.6770</td>\n",
       "      <td>84.727750</td>\n",
       "      <td>1</td>\n",
       "      <td>91.779999</td>\n",
       "      <td>-2.480003</td>\n",
       "      <td>28.029999</td>\n",
       "    </tr>\n",
       "    <tr>\n",
       "      <th>778</th>\n",
       "      <td>2018-02-02</td>\n",
       "      <td>93.639999</td>\n",
       "      <td>93.970001</td>\n",
       "      <td>91.500000</td>\n",
       "      <td>91.779999</td>\n",
       "      <td>91.350883</td>\n",
       "      <td>47867800</td>\n",
       "      <td>90.9105</td>\n",
       "      <td>84.921375</td>\n",
       "      <td>1</td>\n",
       "      <td>88.000000</td>\n",
       "      <td>-3.779999</td>\n",
       "      <td>24.250000</td>\n",
       "    </tr>\n",
       "    <tr>\n",
       "      <th>779</th>\n",
       "      <td>2018-02-05</td>\n",
       "      <td>90.559998</td>\n",
       "      <td>93.239998</td>\n",
       "      <td>88.000000</td>\n",
       "      <td>88.000000</td>\n",
       "      <td>87.588554</td>\n",
       "      <td>51031500</td>\n",
       "      <td>90.9010</td>\n",
       "      <td>85.067750</td>\n",
       "      <td>1</td>\n",
       "      <td>NaN</td>\n",
       "      <td>NaN</td>\n",
       "      <td>NaN</td>\n",
       "    </tr>\n",
       "  </tbody>\n",
       "</table>\n",
       "</div>"
      ],
      "text/plain": [
       "           Date       Open       High        Low      Close  Adj Close  \\\n",
       "775  2018-01-30  93.300003  93.660004  92.099998  92.739998  92.306389   \n",
       "776  2018-01-31  93.750000  95.400002  93.510002  95.010002  94.565781   \n",
       "777  2018-02-01  94.790001  96.070000  93.580002  94.260002  93.819290   \n",
       "778  2018-02-02  93.639999  93.970001  91.500000  91.779999  91.350883   \n",
       "779  2018-02-05  90.559998  93.239998  88.000000  88.000000  87.588554   \n",
       "\n",
       "       Volume     MA20       MA80  Shares     Close1    Profit     wealth  \n",
       "775  38635100  89.8285  84.261500       1  95.010002  2.270004  31.260002  \n",
       "776  48756300  90.2815  84.499500       1  94.260002 -0.750000  30.510002  \n",
       "777  47227900  90.6770  84.727750       1  91.779999 -2.480003  28.029999  \n",
       "778  47867800  90.9105  84.921375       1  88.000000 -3.779999  24.250000  \n",
       "779  51031500  90.9010  85.067750       1        NaN       NaN        NaN  "
      ]
     },
     "execution_count": 44,
     "metadata": {},
     "output_type": "execute_result"
    }
   ],
   "source": [
    "#Use .cumsum() to calculate the accumulated wealth over the period\n",
    "\n",
    "MS['wealth'] = MS['Profit'].cumsum()\n",
    "MS.tail()"
   ]
  },
  {
   "cell_type": "code",
   "execution_count": 45,
   "id": "1f95a810",
   "metadata": {},
   "outputs": [
    {
     "data": {
      "text/plain": [
       "Text(0.5, 1.0, 'Total money you Gain is 24.249999999999993')"
      ]
     },
     "execution_count": 45,
     "metadata": {},
     "output_type": "execute_result"
    },
    {
     "data": {
      "image/png": "[encoded data removed]",
      "text/plain": [
       "<Figure size 432x288 with 1 Axes>"
      ]
     },
     "metadata": {
      "needs_background": "light"
     },
     "output_type": "display_data"
    }
   ],
   "source": [
    "#plot the wealth to show the growth of profit over the period\n",
    "\n",
    "MS['wealth'].plot()\n",
    "plt.title('Total money you Gain is {}'.format(MS.loc[MS.index[-2], 'wealth']))"
   ]
  }
 ],
 "metadata": {
  "kernelspec": {
   "display_name": "Python 3 (ipykernel)",
   "language": "python",
   "name": "python3"
  },
  "language_info": {
   "codemirror_mode": {
    "name": "ipython",
    "version": 3
   },
   "file_extension": ".py",
   "mimetype": "text/x-python",
   "name": "python",
   "nbconvert_exporter": "python",
   "pygments_lexer": "ipython3",
   "version": "3.9.7"
  }
 },
 "nbformat": 4,
 "nbformat_minor": 5
}
